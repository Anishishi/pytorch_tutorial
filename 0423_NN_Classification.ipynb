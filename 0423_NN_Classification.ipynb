{
 "cells": [
  {
   "cell_type": "markdown",
   "metadata": {},
   "source": [
    "# 1.Neural Networks\n",
    "## Define the network"
   ]
  },
  {
   "cell_type": "code",
   "execution_count": 1,
   "metadata": {},
   "outputs": [
    {
     "name": "stdout",
     "output_type": "stream",
     "text": [
      "Net(\n",
      "  (conv1): Conv2d(1, 6, kernel_size=(3, 3), stride=(1, 1))\n",
      "  (conv2): Conv2d(6, 16, kernel_size=(3, 3), stride=(1, 1))\n",
      "  (fc1): Linear(in_features=576, out_features=120, bias=True)\n",
      "  (fc2): Linear(in_features=120, out_features=84, bias=True)\n",
      "  (fc3): Linear(in_features=84, out_features=10, bias=True)\n",
      ")\n"
     ]
    }
   ],
   "source": [
    "import torch\n",
    "import torch.nn as nn\n",
    "import torch.nn.functional as F\n",
    "\n",
    "#input img size = 32 * 32\n",
    "class Net(nn.Module):\n",
    "    \n",
    "    def __init__(self):\n",
    "        super(Net, self).__init__()\n",
    "        # 1 input image channel, 6 output channels, 3*3 square convolution, kernel\n",
    "        self.conv1 = nn.Conv2d(1,6,3) #default:stride=1,padding=0,dilation=1,bias=True\n",
    "        self.conv2 = nn.Conv2d(6,16,3)\n",
    "        # an affine operation: y=Wx+b\n",
    "        self.fc1=nn.Linear(16*6*6,120) #6*6 from inage dimension\n",
    "        self.fc2=nn.Linear(120,84)\n",
    "        self.fc3=nn.Linear(84,10)\n",
    "        \n",
    "    def forward(self,x):\n",
    "        #Max pooling over a (2,2) window\n",
    "        x = F.max_pool2d(F.relu(self.conv1(x)), (2,2))\n",
    "        #if the size is a square you can only specify a single number\n",
    "        x = F.max_pool2d(F.relu(self.conv2(x)),2)\n",
    "        x = x.view(-1, self.num_flat_features(x))\n",
    "        x = F.relu(self.fc1(x))\n",
    "        x = F.relu(self.fc2(x))\n",
    "        x = self.fc3(x)\n",
    "        return x\n",
    "    \n",
    "    def num_flat_features(self,x):\n",
    "        size = x.size()[1:] #all dimensions except the batch dimension\n",
    "        num_features = 1\n",
    "        for s in size:\n",
    "            num_features *= s\n",
    "        return num_features\n",
    "    \n",
    "net = Net()\n",
    "print(net)"
   ]
  },
  {
   "cell_type": "code",
   "execution_count": 2,
   "metadata": {},
   "outputs": [
    {
     "name": "stdout",
     "output_type": "stream",
     "text": [
      "10\n",
      "torch.Size([6, 1, 3, 3])\n",
      "torch.Size([6])\n"
     ]
    }
   ],
   "source": [
    "params = list(net.parameters())\n",
    "print(len(params))\n",
    "print(params[0].size()) #conv1's.weight\n",
    "print(params[1].size()) #conv1's.bias"
   ]
  },
  {
   "cell_type": "code",
   "execution_count": 3,
   "metadata": {},
   "outputs": [
    {
     "name": "stdout",
     "output_type": "stream",
     "text": [
      "tensor([[-0.1164, -0.0463, -0.0039, -0.1103, -0.0524,  0.0590,  0.0779,  0.0891,\n",
      "         -0.1679,  0.0353]], grad_fn=<AddmmBackward>)\n"
     ]
    }
   ],
   "source": [
    "input = torch.randn(1,1,32,32)\n",
    "#conv1 and maxpooling make the size of input 15*15. That is a mistake.\n",
    "out = net(input)\n",
    "print(out)"
   ]
  },
  {
   "cell_type": "code",
   "execution_count": 4,
   "metadata": {},
   "outputs": [],
   "source": [
    "net.zero_grad()\n",
    "out.backward(torch.randn(1,10))"
   ]
  },
  {
   "cell_type": "markdown",
   "metadata": {},
   "source": [
    "## Loss Function"
   ]
  },
  {
   "cell_type": "code",
   "execution_count": 5,
   "metadata": {},
   "outputs": [
    {
     "name": "stdout",
     "output_type": "stream",
     "text": [
      "tensor(0.5737, grad_fn=<MseLossBackward>)\n"
     ]
    }
   ],
   "source": [
    "output = net(input)\n",
    "target = torch.randn(10) # a dummy target, for example\n",
    "target = target.view(1,-1) # make it the same shape as output\n",
    "criterion = nn.MSELoss()\n",
    "\n",
    "loss = criterion(output, target)\n",
    "print(loss)"
   ]
  },
  {
   "cell_type": "code",
   "execution_count": 6,
   "metadata": {},
   "outputs": [
    {
     "name": "stdout",
     "output_type": "stream",
     "text": [
      "<MseLossBackward object at 0x2afa37e7aed0>\n",
      "<AddmmBackward object at 0x2afa37e7af90>\n",
      "<AccumulateGrad object at 0x2afa37e7aed0>\n"
     ]
    }
   ],
   "source": [
    "print(loss.grad_fn) #MSELoss\n",
    "print(loss.grad_fn.next_functions[0][0]) #Linear\n",
    "print(loss.grad_fn.next_functions[0][0].next_functions[0][0]) #ReLU"
   ]
  },
  {
   "cell_type": "markdown",
   "metadata": {},
   "source": [
    "## Backprop"
   ]
  },
  {
   "cell_type": "code",
   "execution_count": 7,
   "metadata": {},
   "outputs": [
    {
     "name": "stdout",
     "output_type": "stream",
     "text": [
      "no preprocess\n",
      "tensor([-0.0315,  0.0075,  0.0317,  0.0213, -0.0219, -0.0215])\n",
      "conv1.bias.grad before backward\n",
      "tensor([0., 0., 0., 0., 0., 0.])\n",
      "conv1.bias.grad after backward\n",
      "tensor([ 0.0056,  0.0070,  0.0085, -0.0009, -0.0093,  0.0142])\n"
     ]
    }
   ],
   "source": [
    "print('no preprocess')\n",
    "print(net.conv1.bias.grad)\n",
    "\n",
    "net.zero_grad() #zeros the gradient buffers of all parameters\n",
    "\n",
    "print('conv1.bias.grad before backward')\n",
    "print(net.conv1.bias.grad)\n",
    "\n",
    "loss.backward()\n",
    "\n",
    "print('conv1.bias.grad after backward')\n",
    "print(net.conv1.bias.grad)"
   ]
  },
  {
   "cell_type": "markdown",
   "metadata": {},
   "source": [
    "## Update the weights"
   ]
  },
  {
   "cell_type": "code",
   "execution_count": 8,
   "metadata": {},
   "outputs": [],
   "source": [
    "learning_rate = 0.01\n",
    "for f in net.parameters():\n",
    "    f.data.sub_(f.grad.data * learning_rate)"
   ]
  },
  {
   "cell_type": "code",
   "execution_count": 9,
   "metadata": {},
   "outputs": [],
   "source": [
    "import torch.optim as optim\n",
    "\n",
    "#create your optimizer\n",
    "optimizer = optim.SGD(net.parameters(), lr=0.01)\n",
    "\n",
    "#in your training loop:\n",
    "optimizer.zero_grad() #zero the gradient buffers\n",
    "output = net(input)\n",
    "loss = criterion(output, target)\n",
    "loss.backward()\n",
    "optimizer.step() #does the update"
   ]
  },
  {
   "cell_type": "markdown",
   "metadata": {},
   "source": [
    "# 2.Training a classifier\n",
    "## What about data\n",
    "Generally, when you have to deal tiwh data, you can use standard python packages \\\n",
    "that load data into a numpy array. Then you can convert this array into a torch.Tensor.\\\n",
    "Specifically for vision, \"torchvision, torchvision.datasets and torch.utils.data.DataLoader\" are useful.\n",
    "\n",
    "For this tutorial, we use the CIFAR10 dataset.\n",
    "\n",
    "## Training an image classifier\n",
    "1. Load and normalizing the CIFAR10 training and test datasets using torchvision\n",
    "2. Define a Convolutional Neural Network\n",
    "3. Define a loss function\n",
    "4. Train the network on the training data\n",
    "5. Test the network on the test data\n",
    "\n",
    "### 1. Loading and normalizing CIFAR10"
   ]
  },
  {
   "cell_type": "code",
   "execution_count": 1,
   "metadata": {},
   "outputs": [],
   "source": [
    "import torch\n",
    "import torchvision\n",
    "import torchvision.transforms as transforms\n",
    "# the output of torchvision datasets are PILImage of range[0,1]."
   ]
  },
  {
   "cell_type": "code",
   "execution_count": 2,
   "metadata": {},
   "outputs": [
    {
     "name": "stdout",
     "output_type": "stream",
     "text": [
      "Files already downloaded and verified\n",
      "Files already downloaded and verified\n"
     ]
    }
   ],
   "source": [
    "transform = transforms.Compose(\n",
    "    [transforms.ToTensor(), transforms.Normalize((0.5,0.5,0.5),(0.5,0.5,0.5))])\n",
    "\n",
    "#num_workers is multiprocess num. in for-loop, you get the 2 size list. Each list has batch_size images.\n",
    "trainset=torchvision.datasets.CIFAR10(root='./0423data',train=True,\n",
    "                                     download=True, transform=transform)\n",
    "trainloader=torch.utils.data.DataLoader(\n",
    "    trainset,batch_size=4,shuffle=True,num_workers=2)\n",
    "\n",
    "testset=torchvision.datasets.CIFAR10(root='./0423data',train=False,\n",
    "                                    download=True, transform=transform)\n",
    "testloader=torch.utils.data.DataLoader(\n",
    "    testset,batch_size=4,shuffle=False,num_workers=2)\n",
    "\n",
    "classes=('plane','car','bird','cat','deer','dog','frog','horse','ship','truck')"
   ]
  },
  {
   "cell_type": "code",
   "execution_count": 3,
   "metadata": {},
   "outputs": [
    {
     "name": "stdout",
     "output_type": "stream",
     "text": [
      "Dataset CIFAR10\n",
      "    Number of datapoints: 50000\n",
      "    Root location: ./0423data\n",
      "    Split: Train\n",
      "    StandardTransform\n",
      "Transform: Compose(\n",
      "               ToTensor()\n",
      "               Normalize(mean=(0.5, 0.5, 0.5), std=(0.5, 0.5, 0.5))\n",
      "           )\n",
      "<torch.utils.data.dataloader.DataLoader object at 0x2afb2f150cd0>\n"
     ]
    }
   ],
   "source": [
    "print(trainset)\n",
    "print(trainloader)"
   ]
  },
  {
   "cell_type": "code",
   "execution_count": 4,
   "metadata": {},
   "outputs": [
    {
     "data": {
      "image/png": "[encoded data removed]",
      "text/plain": [
       "<Figure size 432x288 with 1 Axes>"
      ]
     },
     "metadata": {
      "needs_background": "light"
     },
     "output_type": "display_data"
    },
    {
     "name": "stdout",
     "output_type": "stream",
     "text": [
      "truck   dog truck   dog\n"
     ]
    }
   ],
   "source": [
    "import matplotlib.pyplot as plt\n",
    "import numpy as np\n",
    "\n",
    "#func to show an image\n",
    "\n",
    "def imshow(img):\n",
    "    img = img / 2 + 0.5 #unnormalize\n",
    "    npimg = img.numpy()\n",
    "    plt.imshow(np.transpose(npimg, (1,2,0)))\n",
    "    plt.show()\n",
    "    \n",
    "#get some random training images\n",
    "dataiter = iter(trainloader)\n",
    "images, labels = dataiter.next()\n",
    "\n",
    "#show images\n",
    "imshow(torchvision.utils.make_grid(images))\n",
    "#print labels\n",
    "print(' '.join('%5s' % classes[labels[j]] for j in range(4)))"
   ]
  },
  {
   "cell_type": "markdown",
   "metadata": {},
   "source": [
    "### 2. Define a Convolutional Neural Network"
   ]
  },
  {
   "cell_type": "code",
   "execution_count": 5,
   "metadata": {},
   "outputs": [],
   "source": [
    "import torch.nn as nn\n",
    "import torch.nn.functional as F\n",
    "\n",
    "\n",
    "class Net(nn.Module):\n",
    "    def __init__(self):\n",
    "        super(Net, self).__init__()\n",
    "        self.conv1=nn.Conv2d(3,6,5)\n",
    "        self.pool=nn.MaxPool2d(2,2)\n",
    "        self.conv2=nn.Conv2d(6,16,5)\n",
    "        self.fc1=nn.Linear(16*5*5,120)\n",
    "        self.fc2=nn.Linear(120,84)\n",
    "        self.fc3=nn.Linear(84,10)\n",
    "        \n",
    "    def forward(self,x):\n",
    "        x=self.pool(F.relu(self.conv1(x)))\n",
    "        x=self.pool(F.relu(self.conv2(x)))\n",
    "        x=x.view(-1,16*5*5)\n",
    "        x=F.relu(self.fc1(x))\n",
    "        x=F.relu(self.fc2(x))\n",
    "        x=self.fc3(x)\n",
    "        return x\n",
    "    \n",
    "net = Net()"
   ]
  },
  {
   "cell_type": "markdown",
   "metadata": {},
   "source": [
    "### 3. Define a Loss function and optimizer"
   ]
  },
  {
   "cell_type": "code",
   "execution_count": 6,
   "metadata": {},
   "outputs": [],
   "source": [
    "import torch.optim as optim\n",
    "\n",
    "criterion = nn.CrossEntropyLoss()\n",
    "optimizer = optim.SGD(net.parameters(), lr=0.001, momentum=0.9)"
   ]
  },
  {
   "cell_type": "markdown",
   "metadata": {},
   "source": [
    "### 4. Train the network"
   ]
  },
  {
   "cell_type": "code",
   "execution_count": 8,
   "metadata": {},
   "outputs": [
    {
     "name": "stdout",
     "output_type": "stream",
     "text": [
      "[1,  2000] loss: 2.206\n",
      "[1,  4000] loss: 1.883\n",
      "[1,  6000] loss: 1.670\n",
      "[1,  8000] loss: 1.570\n",
      "[1, 10000] loss: 1.505\n",
      "[1, 12000] loss: 1.466\n",
      "[2,  2000] loss: 1.402\n",
      "[2,  4000] loss: 1.384\n",
      "[2,  6000] loss: 1.331\n",
      "[2,  8000] loss: 1.290\n",
      "[2, 10000] loss: 1.302\n",
      "[2, 12000] loss: 1.300\n",
      "Finishied Training\n"
     ]
    }
   ],
   "source": [
    "for epoch in range(2): #loop over the dataset multiple times\n",
    "    \n",
    "    running_loss = 0.0\n",
    "    for i,data in enumerate(trainloader, 0): #i starts from 0\n",
    "        #get the inputs; data is a list of [inputs, labels]\n",
    "        inputs, labels = data\n",
    "        \n",
    "        #zero the parameter gradients\n",
    "        optimizer.zero_grad()\n",
    "        \n",
    "        #forward + backward + optimize\n",
    "        outputs = net(inputs)\n",
    "        loss = criterion(outputs, labels)\n",
    "        loss.backward()\n",
    "        optimizer.step()\n",
    "        \n",
    "        #print statistics\n",
    "        running_loss += loss.item()\n",
    "        if i%2000==1999: #print every 2000 mini-batches\n",
    "            print('[%d, %5d] loss: %.3f' % (epoch+1,i+1,running_loss/2000))\n",
    "            running_loss=0.0\n",
    "            \n",
    "print('Finishied Training')"
   ]
  },
  {
   "cell_type": "code",
   "execution_count": 9,
   "metadata": {},
   "outputs": [],
   "source": [
    "PATH = './0423data/cifar_net_2.pth'\n",
    "torch.save(net.state_dict(),PATH)"
   ]
  },
  {
   "cell_type": "markdown",
   "metadata": {},
   "source": [
    "### 5. Test the network on the test data"
   ]
  },
  {
   "cell_type": "code",
   "execution_count": 10,
   "metadata": {},
   "outputs": [
    {
     "data": {
      "image/png": "[encoded data removed]",
      "text/plain": [
       "<Figure size 432x288 with 1 Axes>"
      ]
     },
     "metadata": {
      "needs_background": "light"
     },
     "output_type": "display_data"
    },
    {
     "name": "stdout",
     "output_type": "stream",
     "text": [
      "GroundTruth:    cat  ship  ship plane\n"
     ]
    }
   ],
   "source": [
    "dataiter=iter(testloader)\n",
    "images, labels = dataiter.next()\n",
    "\n",
    "#print iamges\n",
    "imshow(torchvision.utils.make_grid(images))\n",
    "print('GroundTruth: ', ' '.join('%5s' % classes[labels[j]] for j in range(4)))"
   ]
  },
  {
   "cell_type": "code",
   "execution_count": 11,
   "metadata": {},
   "outputs": [
    {
     "data": {
      "text/plain": [
       "<All keys matched successfully>"
      ]
     },
     "execution_count": 11,
     "metadata": {},
     "output_type": "execute_result"
    }
   ],
   "source": [
    "net = Net()\n",
    "net.load_state_dict(torch.load(PATH))"
   ]
  },
  {
   "cell_type": "code",
   "execution_count": 12,
   "metadata": {},
   "outputs": [
    {
     "name": "stdout",
     "output_type": "stream",
     "text": [
      "Predicted:    dog   car plane  ship\n"
     ]
    }
   ],
   "source": [
    "outputs = net(images)\n",
    "_, predicted = torch.max(outputs, 1)\n",
    "print('Predicted: ', ' '.join('%5s' % classes[predicted[j]] for j in range(4)))"
   ]
  },
  {
   "cell_type": "code",
   "execution_count": 13,
   "metadata": {},
   "outputs": [
    {
     "name": "stdout",
     "output_type": "stream",
     "text": [
      "Accuracy of the network on the 10000 test images: 54 %\n"
     ]
    }
   ],
   "source": [
    "correct = 0\n",
    "total = 0\n",
    "with torch.no_grad():\n",
    "    for data in testloader:\n",
    "        images, labels = data\n",
    "        outputs=net(images)\n",
    "        _,predicted=torch.max(outputs.data,1) #torch.Size([4,10])\n",
    "        total+=labels.size(0)\n",
    "        correct+=(predicted==labels).sum().item()\n",
    "        \n",
    "print('Accuracy of the network on the 10000 test images: %d %%' %(\n",
    "    100 * correct / total))"
   ]
  },
  {
   "cell_type": "code",
   "execution_count": 14,
   "metadata": {},
   "outputs": [
    {
     "name": "stdout",
     "output_type": "stream",
     "text": [
      "Accuracy of plane : 64 %\n",
      "Accuracy of   car : 62 %\n",
      "Accuracy of  bird : 43 %\n",
      "Accuracy of   cat : 51 %\n",
      "Accuracy of  deer : 25 %\n",
      "Accuracy of   dog : 44 %\n",
      "Accuracy of  frog : 72 %\n",
      "Accuracy of horse : 53 %\n",
      "Accuracy of  ship : 64 %\n",
      "Accuracy of truck : 66 %\n"
     ]
    }
   ],
   "source": [
    "#the accuracy of each categories\n",
    "class_correct=list(0. for i in range(10))\n",
    "class_total=list(0. for i in range(10))\n",
    "with torch.no_grad():\n",
    "    for data in testloader:\n",
    "        images, labels = data\n",
    "        outputs=net(images)\n",
    "        _,predicted=torch.max(outputs.data,1) #torch.Size([4,10])\n",
    "        c=(predicted==labels).squeeze()\n",
    "        for i in range(4):\n",
    "            label=labels[i]\n",
    "            class_correct[label]+=c[i].item()\n",
    "            class_total[label]+=1\n",
    "        \n",
    "for i in range(10):   \n",
    "    print('Accuracy of %5s : %2d %%' %(\n",
    "        classes[i], 100 * class_correct[i] / class_total[i]))"
   ]
  },
  {
   "cell_type": "markdown",
   "metadata": {},
   "source": [
    "## Training on GPU"
   ]
  },
  {
   "cell_type": "code",
   "execution_count": 7,
   "metadata": {},
   "outputs": [
    {
     "name": "stdout",
     "output_type": "stream",
     "text": [
      "cuda:0\n"
     ]
    }
   ],
   "source": [
    "device=torch.device(\"cuda:0\" if torch.cuda.is_available() else \"cpu\")\n",
    "print(device)"
   ]
  },
  {
   "cell_type": "code",
   "execution_count": 8,
   "metadata": {},
   "outputs": [
    {
     "data": {
      "text/plain": [
       "Net(\n",
       "  (conv1): Conv2d(3, 6, kernel_size=(5, 5), stride=(1, 1))\n",
       "  (pool): MaxPool2d(kernel_size=2, stride=2, padding=0, dilation=1, ceil_mode=False)\n",
       "  (conv2): Conv2d(6, 16, kernel_size=(5, 5), stride=(1, 1))\n",
       "  (fc1): Linear(in_features=400, out_features=120, bias=True)\n",
       "  (fc2): Linear(in_features=120, out_features=84, bias=True)\n",
       "  (fc3): Linear(in_features=84, out_features=10, bias=True)\n",
       ")"
      ]
     },
     "execution_count": 8,
     "metadata": {},
     "output_type": "execute_result"
    }
   ],
   "source": [
    "net.to(device)"
   ]
  },
  {
   "cell_type": "code",
   "execution_count": 9,
   "metadata": {},
   "outputs": [
    {
     "name": "stdout",
     "output_type": "stream",
     "text": [
      "[1,  2000] loss: 2.189\n",
      "[1,  4000] loss: 1.842\n",
      "[1,  6000] loss: 1.684\n",
      "[1,  8000] loss: 1.586\n",
      "[1, 10000] loss: 1.522\n",
      "[1, 12000] loss: 1.457\n",
      "[2,  2000] loss: 1.403\n",
      "[2,  4000] loss: 1.356\n",
      "[2,  6000] loss: 1.352\n",
      "[2,  8000] loss: 1.307\n",
      "[2, 10000] loss: 1.287\n",
      "[2, 12000] loss: 1.281\n",
      "[3,  2000] loss: 1.220\n",
      "[3,  4000] loss: 1.206\n",
      "[3,  6000] loss: 1.202\n",
      "[3,  8000] loss: 1.188\n",
      "[3, 10000] loss: 1.154\n",
      "[3, 12000] loss: 1.171\n",
      "[4,  2000] loss: 1.104\n",
      "[4,  4000] loss: 1.086\n",
      "[4,  6000] loss: 1.088\n",
      "[4,  8000] loss: 1.087\n",
      "[4, 10000] loss: 1.098\n",
      "[4, 12000] loss: 1.101\n",
      "[5,  2000] loss: 1.020\n",
      "[5,  4000] loss: 1.036\n",
      "[5,  6000] loss: 1.017\n",
      "[5,  8000] loss: 1.023\n",
      "[5, 10000] loss: 1.015\n",
      "[5, 12000] loss: 1.044\n",
      "[6,  2000] loss: 0.937\n",
      "[6,  4000] loss: 0.963\n",
      "[6,  6000] loss: 1.001\n",
      "[6,  8000] loss: 0.977\n",
      "[6, 10000] loss: 0.979\n",
      "[6, 12000] loss: 0.971\n",
      "[7,  2000] loss: 0.896\n",
      "[7,  4000] loss: 0.907\n",
      "[7,  6000] loss: 0.929\n",
      "[7,  8000] loss: 0.949\n",
      "[7, 10000] loss: 0.930\n",
      "[7, 12000] loss: 0.947\n",
      "[8,  2000] loss: 0.846\n",
      "[8,  4000] loss: 0.863\n",
      "[8,  6000] loss: 0.886\n",
      "[8,  8000] loss: 0.906\n",
      "[8, 10000] loss: 0.901\n",
      "[8, 12000] loss: 0.908\n",
      "[9,  2000] loss: 0.822\n",
      "[9,  4000] loss: 0.826\n",
      "[9,  6000] loss: 0.847\n",
      "[9,  8000] loss: 0.854\n",
      "[9, 10000] loss: 0.879\n",
      "[9, 12000] loss: 0.887\n",
      "[10,  2000] loss: 0.763\n",
      "[10,  4000] loss: 0.785\n",
      "[10,  6000] loss: 0.814\n",
      "[10,  8000] loss: 0.857\n",
      "[10, 10000] loss: 0.852\n",
      "[10, 12000] loss: 0.845\n",
      "Finishied Training on GPU\n"
     ]
    }
   ],
   "source": [
    "for epoch in range(10): #loop over the dataset multiple times\n",
    "    \n",
    "    running_loss = 0.0\n",
    "    for i,data in enumerate(trainloader, 0): #i starts from 0\n",
    "        #get the inputs; data is a list of [inputs, labels]\n",
    "        inputs, labels = data[0].to(device),data[1].to(device)\n",
    "        \n",
    "        #zero the parameter gradients\n",
    "        optimizer.zero_grad()\n",
    "        \n",
    "        #forward + backward + optimize\n",
    "        outputs = net(inputs)\n",
    "        loss = criterion(outputs, labels)\n",
    "        loss.backward()\n",
    "        optimizer.step()\n",
    "        \n",
    "        #print statistics\n",
    "        running_loss += loss.item()\n",
    "        if i%2000==1999: #print every 2000 mini-batches\n",
    "            print('[%d, %5d] loss: %.3f' % (epoch+1,i+1,running_loss/2000))\n",
    "            running_loss=0.0\n",
    "            \n",
    "print('Finishied Training on GPU')"
   ]
  },
  {
   "cell_type": "code",
   "execution_count": 10,
   "metadata": {},
   "outputs": [
    {
     "name": "stdout",
     "output_type": "stream",
     "text": [
      "Accuracy of plane : 70 %\n",
      "Accuracy of   car : 73 %\n",
      "Accuracy of  bird : 50 %\n",
      "Accuracy of   cat : 36 %\n",
      "Accuracy of  deer : 61 %\n",
      "Accuracy of   dog : 54 %\n",
      "Accuracy of  frog : 66 %\n",
      "Accuracy of horse : 68 %\n",
      "Accuracy of  ship : 74 %\n",
      "Accuracy of truck : 69 %\n"
     ]
    }
   ],
   "source": [
    "PATH = './0423data/cifar_net_10.pth'\n",
    "torch.save(net.state_dict(),PATH)\n",
    "\n",
    "net = Net()\n",
    "net.load_state_dict(torch.load(PATH))\n",
    "\n",
    "#the accuracy of each categories\n",
    "class_correct=list(0. for i in range(10))\n",
    "class_total=list(0. for i in range(10))\n",
    "with torch.no_grad():\n",
    "    for data in testloader:\n",
    "        images, labels = data\n",
    "        outputs=net(images)\n",
    "        _,predicted=torch.max(outputs.data,1) #torch.Size([4,10])\n",
    "        c=(predicted==labels).squeeze()\n",
    "        for i in range(4):\n",
    "            label=labels[i]\n",
    "            class_correct[label]+=c[i].item()\n",
    "            class_total[label]+=1\n",
    "        \n",
    "for i in range(10):   \n",
    "    print('Accuracy of %5s : %2d %%' %(\n",
    "        classes[i], 100 * class_correct[i] / class_total[i]))"
   ]
  }
 ],
 "metadata": {
  "kernelspec": {
   "display_name": "Python 3",
   "language": "python",
   "name": "python3"
  },
  "language_info": {
   "codemirror_mode": {
    "name": "ipython",
    "version": 3
   },
   "file_extension": ".py",
   "mimetype": "text/x-python",
   "name": "python",
   "nbconvert_exporter": "python",
   "pygments_lexer": "ipython3",
   "version": "3.7.6"
  }
 },
 "nbformat": 4,
 "nbformat_minor": 2
}
