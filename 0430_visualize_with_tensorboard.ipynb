{
 "cells": [
  {
   "cell_type": "markdown",
   "metadata": {},
   "source": [
    "# Visualizeing Models, Data, and Training with Tensor Board"
   ]
  },
  {
   "cell_type": "code",
   "execution_count": 1,
   "metadata": {},
   "outputs": [],
   "source": [
    "import matplotlib.pyplot as plt\n",
    "import numpy as np\n",
    "\n",
    "import torch\n",
    "import torchvision\n",
    "import torchvision.transforms as transforms\n",
    "\n",
    "import torch.nn as nn\n",
    "import torch.nn.functional as F\n",
    "import torch.optim as optim\n",
    "\n",
    "%matplotlib inline"
   ]
  },
  {
   "cell_type": "code",
   "execution_count": 2,
   "metadata": {},
   "outputs": [],
   "source": [
    "#transform\n",
    "transform=transforms.Compose([transforms.ToTensor(),transforms.Normalize((0.5,),(0.5,))])\n",
    "#Normalizeはデータセットの平均，標準偏差を使って標準正規分布にする\n",
    "\n",
    "#dataset\n",
    "trainset=torchvision.datasets.FashionMNIST('./data',download=True,train=True,transform=transform)\n",
    "testset=torchvision.datasets.FashionMNIST('./data',download=True,train=False,transform=transform)\n",
    "\n",
    "#dataloaders\n",
    "traindataloader=torch.utils.data.DataLoader(trainset,batch_size=4,shuffle=True,num_workers=2)\n",
    "testdataloader=torch.utils.data.DataLoader(testset,batch_size=4,shuffle=False,num_workers=2)\n",
    "\n",
    "#constant for classes\n",
    "classes=('T-shirt/top','Trouser','Pullover','Dress','Coat','Sandal','Shirt','Sneaker','Bag','Ankle Boot')\n",
    "\n",
    "#helper functions to show an image\n",
    "#(used in the plot_classes_preds function below)\n",
    "def matplotlib_imshow(img,one_channel=False):\n",
    "    if one_channel:\n",
    "        img=img.mean(dim=0)\n",
    "    img=img/2+0.5 #unnormalize\n",
    "    npimg=img.numpy()\n",
    "    if one_channel:\n",
    "        plt.imshow(npimg,cmap='Greys')\n",
    "    else:\n",
    "        plt.imshow(np.transpose(npimg,(1,2,0)))"
   ]
  },
  {
   "cell_type": "code",
   "execution_count": 3,
   "metadata": {},
   "outputs": [],
   "source": [
    "class Net(nn.Module):\n",
    "    def __init__(self):\n",
    "        super(Net,self).__init__()\n",
    "        self.conv1=nn.Conv2d(1,6,5)\n",
    "        self.pool1=nn.MaxPool2d(2,2)\n",
    "        self.conv2=nn.Conv2d(6,16,5)\n",
    "        self.pool2=nn.MaxPool2d(2,2)\n",
    "        self.fc1=nn.Linear(16*4*4,120)\n",
    "        self.fc2=nn.Linear(120,84)\n",
    "        self.fc3=nn.Linear(84,10)\n",
    "        \n",
    "    def forward(self,x):\n",
    "        x=self.pool1(F.relu(self.conv1(x)))\n",
    "        x=self.pool2(F.relu(self.conv2(x)))\n",
    "        x=x.view(-1,16*4*4)\n",
    "        x=F.relu(self.fc1(x))\n",
    "        x=F.relu(self.fc2(x))\n",
    "        x=self.fc3(x)\n",
    "        \n",
    "        return x\n",
    "    \n",
    "net=Net()"
   ]
  },
  {
   "cell_type": "code",
   "execution_count": 4,
   "metadata": {},
   "outputs": [],
   "source": [
    "criterion=nn.CrossEntropyLoss()\n",
    "optimizer=optim.SGD(net.parameters(),lr=0.001,momentum=0.9)"
   ]
  },
  {
   "cell_type": "markdown",
   "metadata": {},
   "source": [
    "## 1. TensorBoard setpu"
   ]
  },
  {
   "cell_type": "code",
   "execution_count": 5,
   "metadata": {},
   "outputs": [],
   "source": [
    "from torch.utils.tensorboard import SummaryWriter\n",
    "\n",
    "# default log_dir is runs - we'll be more specific here\n",
    "writer=SummaryWriter('runs/fashoin_mnist_expoeriment1')"
   ]
  },
  {
   "cell_type": "markdown",
   "metadata": {},
   "source": [
    "## 2. Writing TensorBoard"
   ]
  },
  {
   "cell_type": "code",
   "execution_count": 6,
   "metadata": {},
   "outputs": [
    {
     "data": {
      "image/png": "[encoded data removed]",
      "text/plain": [
       "<Figure size 432x288 with 1 Axes>"
      ]
     },
     "metadata": {
      "needs_background": "light"
     },
     "output_type": "display_data"
    }
   ],
   "source": [
    "# get some random training images\n",
    "dataiter=iter(traindataloader)\n",
    "images,labels=dataiter.next()\n",
    "\n",
    "# create grid of images\n",
    "img_grid=torchvision.utils.make_grid(images)\n",
    "\n",
    "# show images\n",
    "matplotlib_imshow(img_grid,one_channel=True)\n",
    "\n",
    "#write to tensorboard\n",
    "writer.add_image('four_fashion_mnist_images',img_grid)"
   ]
  },
  {
   "cell_type": "code",
   "execution_count": 7,
   "metadata": {},
   "outputs": [
    {
     "name": "stdout",
     "output_type": "stream",
     "text": [
      "torch.Size([4, 1, 28, 28])\n",
      "torch.Size([3, 32, 122])\n"
     ]
    }
   ],
   "source": [
    "print(images.size())\n",
    "print(img_grid.size())"
   ]
  },
  {
   "cell_type": "markdown",
   "metadata": {},
   "source": [
    "### in your terminal, run this code\n",
    "$ tensorboard --logdir=runs --port 9038\n",
    "\n",
    "## 3. Inspect the model using TensorBoard"
   ]
  },
  {
   "cell_type": "code",
   "execution_count": 8,
   "metadata": {},
   "outputs": [],
   "source": [
    "writer.add_graph(net,images)\n",
    "writer.close()"
   ]
  },
  {
   "cell_type": "markdown",
   "metadata": {},
   "source": [
    "## 4. Adding a  \"Projector\" to TensorBoard"
   ]
  },
  {
   "cell_type": "code",
   "execution_count": 9,
   "metadata": {},
   "outputs": [],
   "source": [
    "#helper function\n",
    "def select_n_random(data,labels,n=100):\n",
    "    #selects n random datapoints and their correspoding labels from a dataset\n",
    "    assert len(data)==len(labels)\n",
    "    \n",
    "    perm=torch.randperm(len(data)) #return a random permutation of integers from 0 to n-1\n",
    "    \n",
    "    return data[perm][:n], labels[perm][:n]\n",
    "    \n",
    "#select random images and their target indices\n",
    "images,labels=select_n_random(trainset.data,trainset.targets)\n",
    "\n",
    "#get the class labels for each image\n",
    "class_labels=[classes[lab] for lab in labels]\n",
    "\n",
    "#log embeddings\n",
    "features=images.view(-1,28*28)\n",
    "writer.add_embedding(features,metadata=class_labels,label_img=images.unsqueeze(1))\n",
    "writer.close()"
   ]
  },
  {
   "cell_type": "markdown",
   "metadata": {},
   "source": [
    "## 5. Tracking model training with TensorBoard"
   ]
  },
  {
   "cell_type": "code",
   "execution_count": 41,
   "metadata": {},
   "outputs": [],
   "source": [
    "#helper functions\n",
    "\n",
    "def images_to_probs(net,images):\n",
    "    '''\n",
    "    Generates predictions and correspoding probabilities from a trained network and a list of images\n",
    "    '''\n",
    "    \n",
    "    output=net(images)\n",
    "    #convert output probabilities to predicted class\n",
    "    _,preds_tensor=torch.max(output,1)\n",
    "    preds=np.squeeze(preds_tensor.numpy()) #サイズが1の次元を全て削除する\n",
    "    return preds,[F.softmax(el, dim=0)[i].item() for i,el in zip(preds,output)]\n",
    "\n",
    "def plot_classes_preds(net,images,labels):\n",
    "    '''\n",
    "    Generates matplotlib Figure using a trained network, along with images and labels from a batch, that shows the network's top prediction\n",
    "    along with its probability, alongside the actual label, coloring this information based on whether the prediction was correct or not.\n",
    "    Uses the \"images_to_probs\" function\n",
    "    '''\n",
    "    preds,probs=images_to_probs(net,images)\n",
    "    #plot the images in the batch, along with predicted and true labels\n",
    "    fig=plt.figure(figsize=(12,48))\n",
    "    for idx in np.arange(4):\n",
    "        ax=fig.add_subplot(1,4,idx+1,xticks=[],yticks=[]) #add_subplot(a,b,c,...):枠をa*bと見たときに左上からc番目のブロック\n",
    "        matplotlib_imshow(images[idx],one_channel=True)\n",
    "        ax.set_title(\"{0},{1:.1f}%\\n(label: {2})\".format(\n",
    "            classes[preds[idx]],\n",
    "            probs[idx]*100.0,\n",
    "            classes[labels[idx]]),\n",
    "                     color=(\"green\" if preds[idx]==labels[idx].item() else \"red\"))\n",
    "    return fig"
   ]
  },
  {
   "cell_type": "code",
   "execution_count": 46,
   "metadata": {},
   "outputs": [
    {
     "name": "stdout",
     "output_type": "stream",
     "text": [
      "Finished Training\n"
     ]
    }
   ],
   "source": [
    "running_loss=0.0\n",
    "for epoch in range(1):\n",
    "    \n",
    "    for i, data in enumerate(traindataloader,0): #i start from 0\n",
    "        \n",
    "        inputs,labels=data\n",
    "        \n",
    "        optimizer.zero_grad()\n",
    "        \n",
    "        outputs=net(inputs)\n",
    "        loss=criterion(outputs,labels)\n",
    "        loss.backward()\n",
    "        optimizer.step()\n",
    "        \n",
    "        running_loss+=loss.item()\n",
    "        if i % 1000 == 999: #every 1000 mini-batches...\n",
    "            # ...log the running loss\n",
    "            writer.add_scalar('training loss',running_loss/1000,epoch*len(traindataloader)+i)\n",
    "            \n",
    "            # ..log a Matplotlib Figure showing the model's predictions on a random mini-batch\n",
    "            writer.add_figure('predictions vs. actuals', plot_classes_preds(net,inputs,labels),global_step=epoch*len(traindataloader)*i)\n",
    "            running_loss=0.0\n",
    "print('Finished Training')"
   ]
  },
  {
   "cell_type": "markdown",
   "metadata": {},
   "source": [
    "## 6. Assessing trained models with TensorBoard\n",
    "what is roc curv and pr curv. [Here](https://qiita.com/ogamiki/items/1ad297ca8761e00e0bca)"
   ]
  },
  {
   "cell_type": "code",
   "execution_count": 70,
   "metadata": {},
   "outputs": [],
   "source": [
    "#1. gets the probability predictions in a test_size * num_classes Tensor\n",
    "#2. gets the pred in a test_size Tensor\n",
    "#takes ~10seconds to run\n",
    "class_probs=[]\n",
    "class_preds=[]\n",
    "with torch.no_grad():\n",
    "    for data in testdataloader:\n",
    "        images,labels=data\n",
    "        output=net(images)\n",
    "        class_probs_batch=[F.softmax(el,dim=0) for el in output]\n",
    "        _,class_preds_batch=torch.max(output,1)\n",
    "        \n",
    "        class_probs.append(class_probs_batch)\n",
    "        class_preds.append(class_preds_batch)\n",
    "        \n",
    "test_probs=torch.cat([torch.stack(batch) for batch in class_probs])\n",
    "test_preds=torch.cat(class_preds)\n",
    "\n",
    "#helper function\n",
    "def add_pr_curve_tensorboard(class_index,test_probs,test_preds,global_step=0):\n",
    "    \"\"\"\n",
    "    Takes in a \"class_index\" from 0 to 9 and plots the correspoding precision-recall curve\n",
    "    \"\"\"\n",
    "    tensorboard_preds=test_preds==class_index\n",
    "    tensorboard_probs=test_probs[:,class_index]\n",
    "    \n",
    "    writer.add_pr_curve(classes[class_index],tensorboard_preds,tensorboard_probs,global_step=global_step)\n",
    "    writer.close()\n",
    "    \n",
    "# plot all the pr curves\n",
    "for i in range(len(classes)):\n",
    "    add_pr_curve_tensorboard(i,test_probs,test_preds)"
   ]
  }
 ],
 "metadata": {
  "kernelspec": {
   "display_name": "Python 3",
   "language": "python",
   "name": "python3"
  },
  "language_info": {
   "codemirror_mode": {
    "name": "ipython",
    "version": 3
   },
   "file_extension": ".py",
   "mimetype": "text/x-python",
   "name": "python",
   "nbconvert_exporter": "python",
   "pygments_lexer": "ipython3",
   "version": "3.6.9"
  }
 },
 "nbformat": 4,
 "nbformat_minor": 2
}
